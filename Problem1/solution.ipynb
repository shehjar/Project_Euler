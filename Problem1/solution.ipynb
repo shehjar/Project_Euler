{
 "cells": [
  {
   "cell_type": "markdown",
   "metadata": {},
   "source": [
    "## Problem Description \n",
    "If we list all the natural numbers below 10 that are multiples of 3 or 5, we get 3, 5, 6 and 9. The sum of these multiples is 23.\n",
    "\n",
    "Find the sum of all the multiples of 3 or 5 below 1000."
   ]
  },
  {
   "cell_type": "markdown",
   "metadata": {},
   "source": [
    "### First method\n",
    "Get a List of multiples, sum them up accordingly"
   ]
  },
  {
   "cell_type": "code",
   "execution_count": 1,
   "metadata": {},
   "outputs": [],
   "source": [
    "def ifMultiple(n):\n",
    "    if (n%3 == 0) or (n%5 == 0):\n",
    "        return True\n",
    "    else:\n",
    "        return False"
   ]
  },
  {
   "cell_type": "code",
   "execution_count": 2,
   "metadata": {},
   "outputs": [
    {
     "name": "stdout",
     "output_type": "stream",
     "text": [
      "The sum of all multiples of 3 or 5 below 100 is 233168\n"
     ]
    }
   ],
   "source": [
    "# Looping through the numbers\n",
    "Multiple_List = []\n",
    "N = 1000  # as mentioned in the problem statement\n",
    "for i in range(N):\n",
    "    if ifMultiple(i):\n",
    "        Multiple_List.append(i)\n",
    "\n",
    "print('The sum of all multiples of 3 or 5 below 100 is', sum(Multiple_List))"
   ]
  },
  {
   "cell_type": "markdown",
   "metadata": {},
   "source": [
    "### Second Method\n",
    "Use Arithmetic Progression summation formula for numbers of multiple of 3 and 5 and then subtract the sum of numbers that are multiples of 15 (which is going to be common in both the list)"
   ]
  },
  {
   "cell_type": "code",
   "execution_count": 5,
   "metadata": {},
   "outputs": [],
   "source": [
    "def arithmeticSum(n, d, FirstTerm = 0):\n",
    "    # d = divisor, n = Last digit, a = first number in the series\n",
    "    numList = int((n - FirstTerm)/d + 1)\n",
    "    LastTerm = FirstTerm + (numList -1)*d\n",
    "    return (FirstTerm + LastTerm)*numList/2"
   ]
  },
  {
   "cell_type": "code",
   "execution_count": 6,
   "metadata": {},
   "outputs": [
    {
     "name": "stdout",
     "output_type": "stream",
     "text": [
      "The sum of all multiples of 3 or 5 below 100 is 233168.0\n"
     ]
    }
   ],
   "source": [
    "# Sum of numbers less than 1000 which are multiple of 3 (3 + 6 + 9 + 12 + 15 + 18 + ...)\n",
    "mult3 = arithmeticSum(n=999, d=3)\n",
    "# Sum of numbers less than 1000 which are multiple of 5 (5 + 10 + 15 + 20 + 25 + 30 + ...)\n",
    "mult5 = arithmeticSum(n=999, d=5)\n",
    "# Sum of numbers less than 1000 which are multiple of 15 (15 + 30 + 45 + 60 + 75 + 90 + ...)\n",
    "mult15 = arithmeticSum(n=999, d=15)\n",
    "\n",
    "print('The sum of all multiples of 3 or 5 below 100 is', mult3 + mult5 - mult15)"
   ]
  },
  {
   "cell_type": "code",
   "execution_count": null,
   "metadata": {},
   "outputs": [],
   "source": []
  }
 ],
 "metadata": {
  "kernelspec": {
   "display_name": "Python 3",
   "language": "python",
   "name": "python3"
  },
  "language_info": {
   "codemirror_mode": {
    "name": "ipython",
    "version": 3
   },
   "file_extension": ".py",
   "mimetype": "text/x-python",
   "name": "python",
   "nbconvert_exporter": "python",
   "pygments_lexer": "ipython3",
   "version": "3.5.5"
  }
 },
 "nbformat": 4,
 "nbformat_minor": 2
}
